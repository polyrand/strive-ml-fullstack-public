{
 "cells": [
  {
   "cell_type": "code",
   "execution_count": 1,
   "id": "equipped-numbers",
   "metadata": {},
   "outputs": [
    {
     "data": {
      "text/plain": [
       "True"
      ]
     },
     "execution_count": 1,
     "metadata": {},
     "output_type": "execute_result"
    }
   ],
   "source": [
    "from sagemaker.pytorch import PyTorch\n",
    "from sagemaker.pytorch import PyTorchModel\n",
    "\n",
    "import sagemaker\n",
    "import tarfile\n",
    "\n",
    "from dotenv import load_dotenv\n",
    "from pathlib import Path\n",
    "\n",
    "import os\n",
    "\n",
    "load_dotenv()"
   ]
  },
  {
   "cell_type": "code",
   "execution_count": 2,
   "id": "approximate-fourth",
   "metadata": {},
   "outputs": [],
   "source": [
    "role_arn = os.getenv(\"IAM_ROLE\")"
   ]
  },
  {
   "cell_type": "code",
   "execution_count": 3,
   "id": "unauthorized-reproduction",
   "metadata": {},
   "outputs": [],
   "source": [
    "import boto3\n",
    "\n",
    "# Let's use Amazon S3\n",
    "s3 = boto3.resource(\"s3\")"
   ]
  },
  {
   "cell_type": "code",
   "execution_count": 4,
   "id": "cubic-october",
   "metadata": {},
   "outputs": [
    {
     "name": "stdout",
     "output_type": "stream",
     "text": [
      "sagemaker-us-east-2-042692655629\n",
      "strive-ricardo-testing-bucket1\n"
     ]
    }
   ],
   "source": [
    "# Print out bucket names\n",
    "for bucket in s3.buckets.all():\n",
    "    print(bucket.name)"
   ]
  },
  {
   "cell_type": "code",
   "execution_count": 5,
   "id": "thirty-termination",
   "metadata": {},
   "outputs": [],
   "source": [
    "bucket = s3.Bucket(\"strive-ricardo-testing-bucket1\")"
   ]
  },
  {
   "cell_type": "markdown",
   "id": "incorporated-attendance",
   "metadata": {},
   "source": [
    "https://sagemaker.readthedocs.io/en/stable/frameworks/pytorch/sagemaker.pytorch.html#pytorch-model\n",
    "\n",
    "https://sagemaker.readthedocs.io/en/stable/frameworks/pytorch/using_pytorch.html#bring-your-own-model"
   ]
  },
  {
   "cell_type": "code",
   "execution_count": 6,
   "id": "seven-bobby",
   "metadata": {},
   "outputs": [],
   "source": [
    "sc = boto3.client(\"s3\")"
   ]
  },
  {
   "cell_type": "code",
   "execution_count": 7,
   "id": "chubby-vinyl",
   "metadata": {},
   "outputs": [],
   "source": [
    "source_dir = Path()\n",
    "\n",
    "with tarfile.open(\"model.tar.gz\", \"w:gz\") as tar:\n",
    "    tar.add(\"modelcom/\")"
   ]
  },
  {
   "cell_type": "code",
   "execution_count": 8,
   "id": "killing-tower",
   "metadata": {},
   "outputs": [],
   "source": [
    "with open(\"model.tar.gz\", \"rb\") as f:\n",
    "    data = f.read()\n",
    "\n",
    "bucket.upload_file(Filename=\"model.tar.gz\", Key=\"model.tar.gz\")"
   ]
  },
  {
   "cell_type": "code",
   "execution_count": 7,
   "id": "victorian-cleveland",
   "metadata": {},
   "outputs": [],
   "source": [
    "pytorch_model = PyTorchModel(\n",
    "    model_data=\"s3://strive-ricardo-testing-bucket1/model.tar.gz\",\n",
    "    role=role_arn,\n",
    "    framework_version=\"1.8.1\",\n",
    "    py_version=\"py3\",\n",
    "    entry_point=\"inference.py\",\n",
    "    source_dir=\"modelcom\",\n",
    ")"
   ]
  },
  {
   "cell_type": "code",
   "execution_count": 8,
   "id": "photographic-insertion",
   "metadata": {},
   "outputs": [
    {
     "name": "stdout",
     "output_type": "stream",
     "text": [
      "---------------!"
     ]
    }
   ],
   "source": [
    "predictor = pytorch_model.deploy(\n",
    "    instance_type=\"ml.m4.xlarge\", initial_instance_count=1, endpoint_name=\"strive-test2\"\n",
    ")  # ml.t2.medium"
   ]
  },
  {
   "cell_type": "code",
   "execution_count": 10,
   "id": "southeast-position",
   "metadata": {},
   "outputs": [
    {
     "name": "stdout",
     "output_type": "stream",
     "text": [
      "strive-test2\n"
     ]
    }
   ],
   "source": [
    "print(predictor.endpoint_name)"
   ]
  },
  {
   "cell_type": "code",
   "execution_count": null,
   "id": "supreme-loading",
   "metadata": {},
   "outputs": [],
   "source": []
  },
  {
   "cell_type": "code",
   "execution_count": 11,
   "id": "alpine-delta",
   "metadata": {},
   "outputs": [],
   "source": [
    "import base64"
   ]
  },
  {
   "cell_type": "markdown",
   "id": "continent-monte",
   "metadata": {},
   "source": [
    "https://github.com/aws/amazon-sagemaker-examples/tree/master/sagemaker-python-sdk/pytorch_mnist"
   ]
  },
  {
   "cell_type": "code",
   "execution_count": 28,
   "id": "everyday-reasoning",
   "metadata": {},
   "outputs": [],
   "source": [
    "# Read image into memory\n",
    "with open(\n",
    "    # \"../06_org_documentation_scripting/data/hymenoptera_data/val/ants/10308379_1b6c72e180.jpg\",\n",
    "    # \"../06_org_documentation_scripting/data/hymenoptera_data/val/ants/1119630822_cd325ea21a.jpg\",\n",
    "    \"../06_org_documentation_scripting/data/hymenoptera_data/val/ants/1053149811_f62a3410d3.jpg\",\n",
    "    \"rb\",\n",
    ") as f:\n",
    "    payload = f.read()"
   ]
  },
  {
   "cell_type": "code",
   "execution_count": 29,
   "id": "infectious-brief",
   "metadata": {},
   "outputs": [
    {
     "data": {
      "text/plain": [
       "'/9j/4AAQSk'"
      ]
     },
     "execution_count": 29,
     "metadata": {},
     "output_type": "execute_result"
    }
   ],
   "source": [
    "data = base64.b64encode(payload).decode()\n",
    "\n",
    "data[:10]"
   ]
  },
  {
   "cell_type": "code",
   "execution_count": 30,
   "id": "painful-essence",
   "metadata": {},
   "outputs": [],
   "source": [
    "# from PIL import Image\n",
    "# import io\n",
    "\n",
    "# Image.open(io.BytesIO(payload))"
   ]
  },
  {
   "cell_type": "markdown",
   "id": "separate-dakota",
   "metadata": {},
   "source": [
    "https://docs.aws.amazon.com/sagemaker/latest/dg/neo-requests-boto3.html"
   ]
  },
  {
   "cell_type": "code",
   "execution_count": 31,
   "id": "regulated-malta",
   "metadata": {},
   "outputs": [],
   "source": [
    "# predictor.predict(data)"
   ]
  },
  {
   "cell_type": "code",
   "execution_count": 32,
   "id": "dynamic-graduation",
   "metadata": {},
   "outputs": [],
   "source": [
    "import boto3\n",
    "\n",
    "import json\n",
    "\n",
    "endpoint = \"strive-test2\"\n",
    "\n",
    "runtime = boto3.Session().client(\"sagemaker-runtime\")"
   ]
  },
  {
   "cell_type": "code",
   "execution_count": 36,
   "id": "diagnostic-folder",
   "metadata": {},
   "outputs": [],
   "source": [
    "# Send image via InvokeEndpoint API\n",
    "response = runtime.invoke_endpoint(\n",
    "    EndpointName=endpoint, ContentType=\"application/x-b64-image\", Body=data\n",
    ")"
   ]
  },
  {
   "cell_type": "code",
   "execution_count": 37,
   "id": "anonymous-hearts",
   "metadata": {},
   "outputs": [
    {
     "data": {
      "text/plain": [
       "{'ResponseMetadata': {'RequestId': '1c224abf-e59a-489c-bb61-f455883264f6',\n",
       "  'HTTPStatusCode': 200,\n",
       "  'HTTPHeaders': {'x-amzn-requestid': '1c224abf-e59a-489c-bb61-f455883264f6',\n",
       "   'x-amzn-invoked-production-variant': 'AllTraffic',\n",
       "   'date': 'Wed, 21 Apr 2021 19:04:34 GMT',\n",
       "   'content-type': 'application/json',\n",
       "   'content-length': '15'},\n",
       "  'RetryAttempts': 0},\n",
       " 'ContentType': 'application/json',\n",
       " 'InvokedProductionVariant': 'AllTraffic',\n",
       " 'Body': <botocore.response.StreamingBody at 0x7fd0cbaa0b80>}"
      ]
     },
     "execution_count": 37,
     "metadata": {},
     "output_type": "execute_result"
    }
   ],
   "source": [
    "response"
   ]
  },
  {
   "cell_type": "code",
   "execution_count": 38,
   "id": "governmental-composer",
   "metadata": {},
   "outputs": [
    {
     "name": "stdout",
     "output_type": "stream",
     "text": [
      "{'result': '0'}\n"
     ]
    }
   ],
   "source": [
    "result = json.loads(response[\"Body\"].read().decode())\n",
    "\n",
    "print(result)"
   ]
  },
  {
   "cell_type": "code",
   "execution_count": null,
   "id": "medium-evening",
   "metadata": {},
   "outputs": [],
   "source": [
    "predictor.delete_endpoint()"
   ]
  },
  {
   "cell_type": "code",
   "execution_count": 25,
   "id": "extreme-contrast",
   "metadata": {},
   "outputs": [],
   "source": [
    "# Unpack response\n",
    "result = json.loads(response[\"Body\"].read().decode())"
   ]
  },
  {
   "cell_type": "code",
   "execution_count": null,
   "id": "chinese-method",
   "metadata": {},
   "outputs": [],
   "source": []
  },
  {
   "cell_type": "code",
   "execution_count": 40,
   "id": "latter-ebony",
   "metadata": {},
   "outputs": [
    {
     "data": {
      "text/plain": [
       "{'result': '0'}"
      ]
     },
     "execution_count": 40,
     "metadata": {},
     "output_type": "execute_result"
    }
   ],
   "source": [
    "result"
   ]
  },
  {
   "cell_type": "code",
   "execution_count": null,
   "id": "mysterious-scoop",
   "metadata": {},
   "outputs": [],
   "source": []
  }
 ],
 "metadata": {
  "kernelspec": {
   "display_name": "Python [conda env:testing]",
   "language": "python",
   "name": "conda-env-testing-py"
  },
  "language_info": {
   "codemirror_mode": {
    "name": "ipython",
    "version": 3
   },
   "file_extension": ".py",
   "mimetype": "text/x-python",
   "name": "python",
   "nbconvert_exporter": "python",
   "pygments_lexer": "ipython3",
   "version": "3.8.6"
  }
 },
 "nbformat": 4,
 "nbformat_minor": 5
}
