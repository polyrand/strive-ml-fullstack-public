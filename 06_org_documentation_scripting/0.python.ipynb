{
 "cells": [
  {
   "cell_type": "markdown",
   "id": "governmental-celebrity",
   "metadata": {},
   "source": [
    "# Abstractions"
   ]
  },
  {
   "cell_type": "markdown",
   "id": "continuing-distributor",
   "metadata": {},
   "source": [
    "When a project gets big you need to start creating abstractions. It's important to not do it too early (that's a very common mistake), but as the project grows you will see some patterns appear very often.\n",
    "\n",
    "Sometimes it's good to take those patterns and create an abstraction around them. The objective of that abstraction is hidding complexity."
   ]
  },
  {
   "cell_type": "code",
   "execution_count": 1,
   "id": "photographic-installation",
   "metadata": {},
   "outputs": [],
   "source": [
    "class Car:\n",
    "    def __init__(self, wheels, power, color=\"red\"):\n",
    "        self.wheels = wheels\n",
    "        self.power = power\n",
    "        self.color = color\n",
    "        self.position = (0, 0)\n",
    "\n",
    "    def description(self, word):\n",
    "\n",
    "        return f\"\"\"\n",
    "The car is {self.color}\n",
    "It has {self.wheels} wheels\n",
    "Power: {self.power}\n",
    "\n",
    "A random word for you:\n",
    "{word}\n",
    "\"\"\".strip()\n",
    "\n",
    "    def move(self, distance):\n",
    "\n",
    "        old_x = self.position[0]\n",
    "        old_y = self.position[1]\n",
    "\n",
    "        self.position = (old_x + distance, old_y + distance)\n",
    "\n",
    "        print(f\"I'm now at {self.posicion}\")\n",
    "\n",
    "        return True"
   ]
  },
  {
   "cell_type": "code",
   "execution_count": 3,
   "id": "governmental-portrait",
   "metadata": {},
   "outputs": [],
   "source": [
    "porsche = Car(wheels=5, power=150)"
   ]
  },
  {
   "cell_type": "code",
   "execution_count": 6,
   "id": "informal-fundamentals",
   "metadata": {},
   "outputs": [
    {
     "name": "stdout",
     "output_type": "stream",
     "text": [
      "The car is red\n",
      "It has 5 wheels\n",
      "Power: 150\n",
      "\n",
      "A random word for you:\n",
      "hellos strivers\n"
     ]
    }
   ],
   "source": [
    "print(porsche.description(\"hellos strivers\"))"
   ]
  },
  {
   "cell_type": "markdown",
   "id": "applied-capitol",
   "metadata": {},
   "source": [
    "## TO DO:\n",
    "\n",
    "We are going to do some operations with a database. Those operations will be quite standardized, so maybe we can abstract them away. Now it's your job to do it."
   ]
  },
  {
   "cell_type": "markdown",
   "id": "universal-neighborhood",
   "metadata": {},
   "source": [
    "Make things idempotent whenever possible."
   ]
  },
  {
   "cell_type": "code",
   "execution_count": 27,
   "id": "ruled-webmaster",
   "metadata": {},
   "outputs": [],
   "source": [
    "import sqlite3\n",
    "from uuid import uuid4\n",
    "import datetime as dt\n",
    "\n",
    "\n",
    "DB_SCHEMA = \"\"\"\n",
    "CREATE TABLE IF NOT EXISTS logs (time TEXT, key TEXT, value TEXT);\n",
    "CREATE TABLE IF NOT EXISTS users (email TEXT, user_id TEXT, key TEXT)  -- <-- complete this\n",
    "\"\"\".strip()\n",
    "\n",
    "\n",
    "class DB:\n",
    "    def __init__(self, dbname):\n",
    "        self.dbname = dbname\n",
    "\n",
    "        self.conn = sqlite3.connect(self.dbname)\n",
    "\n",
    "        with self.conn as cursor:\n",
    "            cursor.executescript(DB_SCHEMA)\n",
    "\n",
    "    def insert_log(self, key, value):\n",
    "        now = dt.datetime.utcnow().isoformat()\n",
    "\n",
    "        with self.conn as cursor:\n",
    "            cursor.execute(\n",
    "                \"INSERT INTO logs VALUES (:time, :key, :value)\",\n",
    "                {\"time\": now, \"key\": key, \"value\": value},\n",
    "            )\n",
    "\n",
    "    def create_user(self, email, key):\n",
    "\n",
    "        user_id = str(uuid4())\n",
    "        \n",
    "        user = {\"email\": email, \"user_id\": user_id, \"key\": key}\n",
    "\n",
    "        with self.conn as cursor:\n",
    "            cursor.execute(\n",
    "                \"INSERT INTO users VALUES (:email, :user_id, :key)\",\n",
    "                user,\n",
    "            )\n",
    "\n",
    "        return user\n",
    "\n",
    "    def validate_key(self, key):\n",
    "        # TODO\n",
    "        # check the user_id OR key OR both that is associated with the key\n",
    "        \n",
    "        result = self.conn.execute(\"SELECT * FROM users WHERE key = :key\", {\"key\": key})\n",
    "        \n",
    "        result = result.fetchone()\n",
    "        \n",
    "        if not result:\n",
    "            return None\n",
    "\n",
    "        # return the user_id / email\n",
    "        return result[1]"
   ]
  },
  {
   "cell_type": "code",
   "execution_count": null,
   "id": "facial-aerospace",
   "metadata": {},
   "outputs": [],
   "source": [
    "def create_user():\n",
    "    \n",
    "    con = get_conn()\n",
    "    \n",
    "    with con as c:\n",
    "        c.execute(...)\n",
    "        \n",
    "        \n",
    "def validate_user():\n",
    "    \n",
    "    con = get_conn()\n",
    "    \n",
    "    with con as c:\n",
    "        c.execute(...)\n",
    "    \n"
   ]
  },
  {
   "cell_type": "code",
   "execution_count": 28,
   "id": "clean-court",
   "metadata": {},
   "outputs": [],
   "source": [
    "db = DB(dbname=\"test.db\")"
   ]
  },
  {
   "cell_type": "code",
   "execution_count": 29,
   "id": "other-underground",
   "metadata": {},
   "outputs": [
    {
     "data": {
      "text/plain": [
       "{'email': 'example@example.com',\n",
       " 'user_id': '04c9c154-7754-4cd3-87d2-9bd1087f2112',\n",
       " 'key': 'passwrod123'}"
      ]
     },
     "execution_count": 29,
     "metadata": {},
     "output_type": "execute_result"
    }
   ],
   "source": [
    "db.create_user(\"example@example.com\", \"passwrod123\")"
   ]
  },
  {
   "cell_type": "code",
   "execution_count": 30,
   "id": "conceptual-calcium",
   "metadata": {},
   "outputs": [],
   "source": [
    "db.insert_log(\"hello\", \"world\")"
   ]
  },
  {
   "cell_type": "code",
   "execution_count": 31,
   "id": "remarkable-pakistan",
   "metadata": {},
   "outputs": [
    {
     "name": "stdout",
     "output_type": "stream",
     "text": [
      "8efc9477-c043-4057-858c-31fff79729bf\n"
     ]
    }
   ],
   "source": [
    "user_id = db.validate_key(\"passwrod123\")\n",
    "\n",
    "print(user_id)"
   ]
  },
  {
   "cell_type": "code",
   "execution_count": 33,
   "id": "integral-neighborhood",
   "metadata": {},
   "outputs": [
    {
     "name": "stdout",
     "output_type": "stream",
     "text": [
      "You are not validated, please contact us to buy a key\n"
     ]
    }
   ],
   "source": [
    "user_id = db.validate_key(\"passwrod12asd3\")\n",
    "\n",
    "if not user_id:\n",
    "    print(\"You are not validated, please contact us to buy a key\")"
   ]
  },
  {
   "cell_type": "code",
   "execution_count": null,
   "id": "failing-match",
   "metadata": {},
   "outputs": [],
   "source": []
  }
 ],
 "metadata": {
  "kernelspec": {
   "display_name": "Python 3",
   "language": "python",
   "name": "python3"
  },
  "language_info": {
   "codemirror_mode": {
    "name": "ipython",
    "version": 3
   },
   "file_extension": ".py",
   "mimetype": "text/x-python",
   "name": "python",
   "nbconvert_exporter": "python",
   "pygments_lexer": "ipython3",
   "version": "3.7.9"
  }
 },
 "nbformat": 4,
 "nbformat_minor": 5
}
