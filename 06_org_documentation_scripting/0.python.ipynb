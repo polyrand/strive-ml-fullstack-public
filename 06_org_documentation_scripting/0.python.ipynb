{
 "cells": [
  {
   "cell_type": "markdown",
   "id": "stainless-motor",
   "metadata": {},
   "source": [
    "# Abstractions"
   ]
  },
  {
   "cell_type": "markdown",
   "id": "chinese-voluntary",
   "metadata": {},
   "source": [
    "When a project gets big you need to start creating abstractions. It's important to not do it too early (that's a very common mistake), but as the project grows you will see some patterns appear very often.\n",
    "\n",
    "Sometimes it's good to take those patterns and create an abstraction around them. The objective of that abstraction is hidding complexity."
   ]
  },
  {
   "cell_type": "code",
   "execution_count": 1,
   "id": "gross-deviation",
   "metadata": {},
   "outputs": [],
   "source": [
    "class Car:\n",
    "    def __init__(self, wheels, power, color=\"red\"):\n",
    "        self.wheels = wheels\n",
    "        self.power = power\n",
    "        self.color = color\n",
    "        self.position = (0, 0)\n",
    "\n",
    "    def description(self, word):\n",
    "\n",
    "        return f\"\"\"\n",
    "The car is {self.color}\n",
    "It has {self.wheels} wheels\n",
    "Power: {self.power}\n",
    "\n",
    "A random word for you:\n",
    "{word}\n",
    "\"\"\".strip()\n",
    "\n",
    "    def move(self, distance):\n",
    "\n",
    "        old_x = self.position[0]\n",
    "        old_y = self.position[1]\n",
    "\n",
    "        self.position = (old_x + distance, old_y + distance)\n",
    "\n",
    "        print(f\"I'm now at {self.posicion}\")\n",
    "\n",
    "        return True"
   ]
  },
  {
   "cell_type": "code",
   "execution_count": 3,
   "id": "unauthorized-assets",
   "metadata": {},
   "outputs": [],
   "source": [
    "porsche = Car(wheels=5, power=150)"
   ]
  },
  {
   "cell_type": "code",
   "execution_count": 6,
   "id": "associate-commission",
   "metadata": {},
   "outputs": [
    {
     "name": "stdout",
     "output_type": "stream",
     "text": [
      "The car is red\n",
      "It has 5 wheels\n",
      "Power: 150\n",
      "\n",
      "A random word for you:\n",
      "hellos strivers\n"
     ]
    }
   ],
   "source": [
    "print(porsche.description(\"hellos strivers\"))"
   ]
  },
  {
   "cell_type": "markdown",
   "id": "annual-secret",
   "metadata": {},
   "source": [
    "## TO DO:\n",
    "\n",
    "We are going to do some operations with a database. Those operations will be quite standardized, so maybe we can abstract them away. Now it's your job to do it."
   ]
  },
  {
   "cell_type": "markdown",
   "id": "engaged-acting",
   "metadata": {},
   "source": [
    "Make things idempotent whenever possible."
   ]
  },
  {
   "cell_type": "code",
   "execution_count": 9,
   "id": "returning-cursor",
   "metadata": {},
   "outputs": [],
   "source": [
    "import datetime as dt"
   ]
  },
  {
   "cell_type": "code",
   "execution_count": 12,
   "id": "excited-judge",
   "metadata": {},
   "outputs": [],
   "source": [
    "import sqlite3\n",
    "\n",
    "# CREATE TABLE IF NOT EXISTS users (..., ..., ...)  -- <-- complete this\n",
    "\n",
    "DB_SCHEMA = \"\"\"\n",
    "CREATE TABLE IF NOT EXISTS logs (time TEXT, key TEXT, value TEXT)\n",
    "CREATE TABLE IF NOT EXISTS users (..., ..., ...)  -- <-- complete this\n",
    "\"\"\".strip()\n",
    "\n",
    "\n",
    "class DB:\n",
    "    def __init__(self, dbname):\n",
    "        self.dbname = dbname\n",
    "\n",
    "        self.conn = sqlite3.connect(self.dbname)\n",
    "\n",
    "        with self.conn as cursor:\n",
    "            cursor.execute(DB_SCHEMA)\n",
    "\n",
    "    def insert_log(self, key, value):\n",
    "        now = dt.datetime.utcnow().isoformat()\n",
    "\n",
    "        with self.conn as cursor:\n",
    "            cursor.execute(\n",
    "                \"INSERT INTO logs VALUES (:time, :key, :value)\",\n",
    "                {\"time\": now, \"key\": key, \"value\": value},\n",
    "            )\n",
    "            \n",
    "    def create_user(self, email, user_id, key):\n",
    "        # TODO\n",
    "        # insert a new user\n",
    "        \n",
    "        # return the new user created \n",
    "        pass\n",
    "    \n",
    "    def validate_key(self, key):\n",
    "        # TODO\n",
    "        # check the user_id OR key OR both that is associated with the key\n",
    "        \n",
    "        # return the user_id / email\n",
    "        pass\n",
    "    \n",
    "    "
   ]
  },
  {
   "cell_type": "code",
   "execution_count": 13,
   "id": "necessary-breath",
   "metadata": {},
   "outputs": [],
   "source": [
    "db = DB(dbname=\"test.db\")"
   ]
  },
  {
   "cell_type": "code",
   "execution_count": 14,
   "id": "comprehensive-prophet",
   "metadata": {},
   "outputs": [],
   "source": [
    "db.insert_log(\"hello\", \"world\")"
   ]
  },
  {
   "cell_type": "markdown",
   "id": "stuffed-combining",
   "metadata": {},
   "source": [
    "## Python packages and dependencies\n",
    "\n",
    "[pip-tools](https://pypi.org/project/pip-tools/)\n",
    "\n",
    "\n",
    "```bash\n",
    "pip-compile -v --output-file requirements/main.txt requirements/main.in\n",
    "pip-compile -v --output-file requirements/dev.txt requirements/dev.in  # --allow-unsafe\n",
    "```\n",
    "\n",
    "```bash\n",
    "pip-compile -v --upgrade --output-file requirements/main.txt requirements/main.in\n",
    "pip-compile -v --upgrade --output-file requirements/dev.txt requirements/dev.in\n",
    "```"
   ]
  },
  {
   "cell_type": "markdown",
   "id": "opponent-toilet",
   "metadata": {},
   "source": [
    "## Code formatting, linting, style and best practices\n",
    "\n",
    "[black](https://github.com/psf/black#installation-and-usage)\n",
    "\n",
    "[flake8](https://flake8.pycqa.org/en/latest/)"
   ]
  }
 ],
 "metadata": {
  "kernelspec": {
   "display_name": "Python 3",
   "language": "python",
   "name": "python3"
  },
  "language_info": {
   "codemirror_mode": {
    "name": "ipython",
    "version": 3
   },
   "file_extension": ".py",
   "mimetype": "text/x-python",
   "name": "python",
   "nbconvert_exporter": "python",
   "pygments_lexer": "ipython3",
   "version": "3.7.9"
  }
 },
 "nbformat": 4,
 "nbformat_minor": 5
}
