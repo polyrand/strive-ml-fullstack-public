{
 "cells": [
  {
   "cell_type": "markdown",
   "id": "stuffed-boating",
   "metadata": {},
   "source": [
    "# Abstractions"
   ]
  },
  {
   "cell_type": "markdown",
   "id": "criminal-terrace",
   "metadata": {},
   "source": [
    "When a project gets big you need to start creating abstractions. It's important to not do it too early (that's a very common mistake), but as the project grows you will see some patterns appear very often.\n",
    "\n",
    "Sometimes it's good to take those patterns and create an abstraction around them. The objective of that abstraction is hidding complexity."
   ]
  },
  {
   "cell_type": "code",
   "execution_count": null,
   "id": "wrong-truth",
   "metadata": {},
   "outputs": [],
   "source": [
    "class Car:\n",
    "    def __init__(self, wheels, power, color=\"red\"):\n",
    "        self.wheels = wheels\n",
    "        self.power = power\n",
    "        self.color = color\n",
    "        self.position = (0, 0)\n",
    "\n",
    "    def description(self, word):\n",
    "\n",
    "        return f\"\"\"\n",
    "The car is {self.color}\n",
    "It has {self.wheels} wheels\n",
    "Power: {self.power}\n",
    "\n",
    "A random word for you:\n",
    "{word}\n",
    "\"\"\".strip()\n",
    "\n",
    "    def move(self, distance):\n",
    "\n",
    "        old_x = self.position[0]\n",
    "        old_y = self.position[1]\n",
    "\n",
    "        self.position = (old_x + distance, old_y + distance)\n",
    "\n",
    "        print(f\"I'm now at {self.posicion}\")\n",
    "\n",
    "        return True"
   ]
  },
  {
   "cell_type": "markdown",
   "id": "angry-blackjack",
   "metadata": {},
   "source": [
    "## TO DO:\n",
    "\n",
    "We are going to do some operations with a database. Those operations will be quite standardized, so maybe we can abstract them away. Now it's your job to do it."
   ]
  },
  {
   "cell_type": "markdown",
   "id": "tamil-grade",
   "metadata": {},
   "source": [
    "Make things idempotent whenever possible."
   ]
  },
  {
   "cell_type": "code",
   "execution_count": null,
   "id": "fifteen-theme",
   "metadata": {},
   "outputs": [],
   "source": [
    "import sqlite3\n",
    "\n",
    "DB_SCHEMA = \"\"\"\n",
    "CREATE TABLE IF NOT EXISTS logs (time TEXT, key TEXT, value TEXT)\n",
    "\n",
    "CREATE TABLE IF NOT EXISTS users (..., ..., ...)  -- <-- complete this\n",
    "\"\"\".strip()\n",
    "\n",
    "class DB:\n",
    "    def __init__(self, dbname):\n",
    "        self.dbname = dbname\n",
    "        \n",
    "        self.conn = sqlite3.connect(dbname)\n",
    "        \n",
    "        with self.conn as c:\n",
    "            c.execute(DB_SCHEMA)\n",
    "    \n",
    "    def insert_log(self, message):\n",
    "        pass"
   ]
  },
  {
   "cell_type": "markdown",
   "id": "female-participation",
   "metadata": {},
   "source": [
    "## Python packages and dependencies\n",
    "\n",
    "[pip-tools](https://pypi.org/project/pip-tools/)\n",
    "\n",
    "\n",
    "```bash\n",
    "pip-compile -v --output-file requirements/main.txt requirements/main.in\n",
    "pip-compile -v --output-file requirements/dev.txt requirements/dev.in  # --allow-unsafe\n",
    "```\n",
    "\n",
    "```bash\n",
    "pip-compile -v --upgrade --output-file requirements/main.txt requirements/main.in\n",
    "pip-compile -v --upgrade --output-file requirements/dev.txt requirements/dev.in\n",
    "```"
   ]
  },
  {
   "cell_type": "markdown",
   "id": "blind-corpus",
   "metadata": {},
   "source": [
    "## Code formatting, linting, style and best practices\n",
    "\n",
    "[black](https://github.com/psf/black#installation-and-usage)\n",
    "\n",
    "[flake8](https://flake8.pycqa.org/en/latest/)"
   ]
  }
 ],
 "metadata": {
  "kernelspec": {
   "display_name": "Python 3",
   "language": "python",
   "name": "python3"
  },
  "language_info": {
   "codemirror_mode": {
    "name": "ipython",
    "version": 3
   },
   "file_extension": ".py",
   "mimetype": "text/x-python",
   "name": "python",
   "nbconvert_exporter": "python",
   "pygments_lexer": "ipython3",
   "version": "3.7.9"
  }
 },
 "nbformat": 4,
 "nbformat_minor": 5
}
